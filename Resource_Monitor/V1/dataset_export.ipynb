{
 "cells": [
  {
   "cell_type": "markdown",
   "metadata": {},
   "source": [
    "# V1 Resource Monitor Dataset"
   ]
  },
  {
   "cell_type": "markdown",
   "metadata": {},
   "source": [
    "## Overview"
   ]
  },
  {
   "cell_type": "markdown",
   "metadata": {},
   "source": [
    "The following code is used to create a dataset consisting of collections of different laboratory equipment registries. Each collection (folder) has 4 spreadsheets. One containing the instrument spreadsheet, which contains information on all the different instrument types, then 2 spreadsheets specific to each instrument type (thermocycler or heater-shaker), then one showing how each record has been corrupted. The corruptions are listed based on the Reference Number of each instrument. This is never corrupted. \n",
    "\n",
    "All other values like regular ID, serial number, min/max temp, etc... are corrupted. This can be by having duplicate values or swapping mins and maxs.\n",
    "\n",
    "Each collection varies based on its corruption percentage.\n",
    "\n",
    "The dataset is structured as follows:\n",
    "- Dataset Directory\n",
    "    - corrupt_perc_0\n",
    "        - instrument.xlsx\n",
    "        - thermocycler.xlsx\n",
    "        - heatershaker.xlsx\n",
    "        - corruption_summary.xlsx\n",
    "    - corrupt_perc_10\n",
    "        - instrument.xlsx\n",
    "        - thermocycler.xlsx\n",
    "        - heatershaker.xlsx\n",
    "        - corruption_summary.xlsx\n",
    "    - Collection n..."
   ]
  },
  {
   "cell_type": "markdown",
   "metadata": {},
   "source": [
    "## Imports"
   ]
  },
  {
   "cell_type": "markdown",
   "metadata": {},
   "source": [
    "General Imports"
   ]
  },
  {
   "cell_type": "code",
   "execution_count": 9,
   "metadata": {},
   "outputs": [],
   "source": [
    "import os\n",
    "import pandas as pd\n",
    "from datetime import datetime"
   ]
  },
  {
   "cell_type": "markdown",
   "metadata": {},
   "source": [
    "Seuqnece Generator Imports"
   ]
  },
  {
   "cell_type": "code",
   "execution_count": 10,
   "metadata": {},
   "outputs": [],
   "source": [
    "from lab_equipment_registry_generator import Equipment as Equipment\n",
    "from lab_equipment_registry_generator import EquipmentCorrupt as Corrupt"
   ]
  },
  {
   "cell_type": "markdown",
   "metadata": {},
   "source": [
    "## Dataset Generation"
   ]
  },
  {
   "cell_type": "code",
   "execution_count": 11,
   "metadata": {},
   "outputs": [],
   "source": [
    "def create_dataset(parent_dir, num_folders):\n",
    "    \"\"\"\n",
    "    Creates a dataset with the specified number of folders, each containing Excel files with corrupted data.\n",
    "\n",
    "    Parameters\n",
    "    ----------\n",
    "    parent_dir : str\n",
    "        The parent directory where the dataset folders will be created.\n",
    "    num_folders : int\n",
    "        The number of folders to create, with corruption levels incrementing evenly.\n",
    "    \"\"\"\n",
    "    # Ensure the parent directory exists.\n",
    "    if not os.path.exists(parent_dir):\n",
    "        os.makedirs(parent_dir)\n",
    "\n",
    "    # Create n number of subfolders with evenly incrementing corruption levels.\n",
    "    for i in range(num_folders):\n",
    "        corruption_pct = i / (num_folders - 1)\n",
    "        corruption_pct_str = f\"{int(corruption_pct * 100)}\"\n",
    "        folder_name = f\"corrupt_perc_{corruption_pct_str}\"\n",
    "        folder_path = os.path.join(parent_dir, folder_name)\n",
    "        \n",
    "        if not os.path.exists(folder_path):\n",
    "            os.makedirs(folder_path)\n",
    "        \n",
    "        # Generate the instrument table with 200 rows.\n",
    "        instrument_df = Equipment.generate_instruments(200, include_thermocyclers=True, include_heater_shakers=True)\n",
    "        thermocycler_df = Equipment.thermocycler(instrument_df)\n",
    "        heatershaker_df = Equipment.heatershaker(instrument_df)\n",
    "\n",
    "        # Corrupt the data.\n",
    "        instrument_df, thermocycler_df, heatershaker_df, corruption_summary = Corrupt.run_all_corruptions(\n",
    "            instrument_df, thermocycler_df, heatershaker_df, corruption_pct\n",
    "        )\n",
    "\n",
    "        # Save the dataframes to Excel files.\n",
    "        instrument_df.to_excel(os.path.join(folder_path, f'instrument_{corruption_pct_str}.xlsx'), index=False)\n",
    "        thermocycler_df.to_excel(os.path.join(folder_path, f'thermocycler_{corruption_pct_str}.xlsx'), index=False)\n",
    "        heatershaker_df.to_excel(os.path.join(folder_path, f'heatershaker_{corruption_pct_str}.xlsx'), index=False)\n",
    "        corruption_summary.to_excel(os.path.join(folder_path, f'corruption_summary_{corruption_pct_str}.xlsx'), index=False)"
   ]
  },
  {
   "cell_type": "code",
   "execution_count": 12,
   "metadata": {},
   "outputs": [],
   "source": [
    "# Run function to make dataset.\n",
    "parent_dir = \"Resource_Monitor_Dataset_V1\"\n",
    "num_folders = 11 \n",
    "create_dataset(parent_dir, num_folders)"
   ]
  }
 ],
 "metadata": {
  "kernelspec": {
   "display_name": ".venv",
   "language": "python",
   "name": "python3"
  },
  "language_info": {
   "codemirror_mode": {
    "name": "ipython",
    "version": 3
   },
   "file_extension": ".py",
   "mimetype": "text/x-python",
   "name": "python",
   "nbconvert_exporter": "python",
   "pygments_lexer": "ipython3",
   "version": "3.12.0"
  }
 },
 "nbformat": 4,
 "nbformat_minor": 2
}
