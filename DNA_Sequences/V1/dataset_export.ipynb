{
 "cells": [
  {
   "cell_type": "markdown",
   "metadata": {},
   "source": [
    "# V1 DNA Dataset Creation"
   ]
  },
  {
   "cell_type": "markdown",
   "metadata": {},
   "source": [
    "## Overview"
   ]
  },
  {
   "cell_type": "markdown",
   "metadata": {},
   "source": [
    "The following code is used to create a dataset consisting of various different DNA sequences and mutated versions of them.\n",
    "The mutations used are insertions, deletions and substitutions. They are not combined for the purpose of this dataset. \n",
    "\n",
    "It makes use of functions written in the file DNA_Sequence_Generator.py.\n",
    "\n",
    "The dataset is structured as follows:\n",
    "- Dataset Directory\n",
    "    - Excel Spreadsheet with overview of all Collections, and the generation parameters for them. \n",
    "    - Collection 1\n",
    "        - Original Sequence FASTA\n",
    "        - Sequence with Insertions FASTA\n",
    "        - Sequence with Deletions FASTA\n",
    "        - Sequence with Substitutions FASTA\n",
    "        - Excel Spreadsheet listing the positions and exact nature of each mutation for all the files in the collection.\n",
    "    - Collection 2\n",
    "        - Original Sequence FASTA\n",
    "        - Sequence with Insertions FASTA\n",
    "        - Sequence with Deletions FASTA\n",
    "        - Sequence with Substitutions FASTA\n",
    "        - Excel Spreadsheet listing the positions and exact nature of each mutation for all the files in the collection.\n",
    "    - Collection n...\n",
    "\n",
    "The original sequence in each collection differs in terms of its length."
   ]
  },
  {
   "cell_type": "markdown",
   "metadata": {},
   "source": [
    "## Imports"
   ]
  },
  {
   "cell_type": "markdown",
   "metadata": {},
   "source": [
    "General Imports"
   ]
  },
  {
   "cell_type": "code",
   "execution_count": 61,
   "metadata": {},
   "outputs": [],
   "source": [
    "import os\n",
    "import pandas as pd\n",
    "from datetime import datetime"
   ]
  },
  {
   "cell_type": "markdown",
   "metadata": {},
   "source": [
    "Seuqnece Generator Imports"
   ]
  },
  {
   "cell_type": "code",
   "execution_count": 62,
   "metadata": {},
   "outputs": [],
   "source": [
    "from DNA_Sequence_Generator import DNA_Sequence_Generator as DNA\n",
    "from DNA_Sequence_Generator import DNA_Sequence_Mutations as Mutate "
   ]
  },
  {
   "cell_type": "markdown",
   "metadata": {},
   "source": [
    "## Dataset Generation"
   ]
  },
  {
   "cell_type": "code",
   "execution_count": 63,
   "metadata": {},
   "outputs": [],
   "source": [
    "# Define the sequence lengths and the parent directory for the dataset.\n",
    "sequence_lengths = list(range(1000, 11000, 1000))\n",
    "parent_directory = \"DNA_Sequence_Dataset\""
   ]
  },
  {
   "cell_type": "code",
   "execution_count": 64,
   "metadata": {},
   "outputs": [],
   "source": [
    "# Creates the parent directory if it doesn't exist.\n",
    "os.makedirs(parent_directory, exist_ok=True)\n"
   ]
  },
  {
   "cell_type": "code",
   "execution_count": 65,
   "metadata": {},
   "outputs": [],
   "source": [
    "# Specify parameters for the DNA sequence generation and subsequent mutation.\n",
    "gc_content = 0.5\n",
    "num_mutations = 3\n",
    "max_bases_per_mutation = 5"
   ]
  },
  {
   "cell_type": "code",
   "execution_count": 66,
   "metadata": {},
   "outputs": [],
   "source": [
    "# Initializes a list to store all the data for the sequences. \n",
    "excel_data = []"
   ]
  },
  {
   "cell_type": "code",
   "execution_count": 67,
   "metadata": {},
   "outputs": [
    {
     "data": {
      "text/html": [
       "<div>\n",
       "<style scoped>\n",
       "    .dataframe tbody tr th:only-of-type {\n",
       "        vertical-align: middle;\n",
       "    }\n",
       "\n",
       "    .dataframe tbody tr th {\n",
       "        vertical-align: top;\n",
       "    }\n",
       "\n",
       "    .dataframe thead th {\n",
       "        text-align: right;\n",
       "    }\n",
       "</style>\n",
       "<table border=\"1\" class=\"dataframe\">\n",
       "  <thead>\n",
       "    <tr style=\"text-align: right;\">\n",
       "      <th></th>\n",
       "      <th>seq_length_10000_original.fasta</th>\n",
       "      <th>seq_length_10000_mut_i.fasta</th>\n",
       "      <th>seq_length_10000_mut_d.fasta</th>\n",
       "      <th>seq_length_10000_mut_s.fasta</th>\n",
       "    </tr>\n",
       "  </thead>\n",
       "  <tbody>\n",
       "    <tr>\n",
       "      <th>0</th>\n",
       "      <td>None</td>\n",
       "      <td>9103_9104insA</td>\n",
       "      <td>4420_4422del</td>\n",
       "      <td>9636G&gt;A</td>\n",
       "    </tr>\n",
       "    <tr>\n",
       "      <th>1</th>\n",
       "      <td>None</td>\n",
       "      <td>2084_2085insAAC</td>\n",
       "      <td>5742_5746del</td>\n",
       "      <td>3457G&gt;T</td>\n",
       "    </tr>\n",
       "    <tr>\n",
       "      <th>2</th>\n",
       "      <td>None</td>\n",
       "      <td>266_267insATCC</td>\n",
       "      <td>5093_5094del</td>\n",
       "      <td>997A&gt;C</td>\n",
       "    </tr>\n",
       "  </tbody>\n",
       "</table>\n",
       "</div>"
      ],
      "text/plain": [
       "  seq_length_10000_original.fasta seq_length_10000_mut_i.fasta  \\\n",
       "0                            None                9103_9104insA   \n",
       "1                            None              2084_2085insAAC   \n",
       "2                            None               266_267insATCC   \n",
       "\n",
       "  seq_length_10000_mut_d.fasta seq_length_10000_mut_s.fasta  \n",
       "0                 4420_4422del                      9636G>A  \n",
       "1                 5742_5746del                      3457G>T  \n",
       "2                 5093_5094del                       997A>C  "
      ]
     },
     "execution_count": 67,
     "metadata": {},
     "output_type": "execute_result"
    }
   ],
   "source": [
    "# Loop through the sequence lengths, creating a collection for each.\n",
    "for length in sequence_lengths:\n",
    "    # Creates a subdirectory for each sequence length.\n",
    "    subdirectory = os.path.join(parent_directory, f\"length_{length}\")\n",
    "    os.makedirs(subdirectory, exist_ok=True)\n",
    "\n",
    "    # Generates a sequence ID and retrieves the current date.\n",
    "    sequence_id = f\"seq_length_{length}\"\n",
    "    date_of_generation = datetime.today().strftime('%Y-%m-%d')\n",
    "\n",
    "    # Generates the template (original) sequence.\n",
    "    original_sequence = DNA.generate_sequence(length, gc_content)\n",
    "\n",
    "    # Writes the original sequence to a FASTA file.\n",
    "    original_file_name = f\"{sequence_id}_original.fasta\"\n",
    "    DNA.sequence_to_fasta(original_sequence, sequence_id, \"original\", date_of_generation, file_name=os.path.join(subdirectory, original_file_name))\n",
    "\n",
    "    # Applies mutations and writes the mutated sequences to FASTA files.\n",
    "    insertions = Mutate.insert(os.path.join(subdirectory, original_file_name), num_mutations, max_bases_per_mutation)\n",
    "    deletions = Mutate.delete(os.path.join(subdirectory, original_file_name), num_mutations, max_bases_per_mutation)\n",
    "    substitutions = Mutate.substitute(os.path.join(subdirectory, original_file_name), num_mutations)\n",
    "\n",
    "    # Adds the data for this sequence to the master Excel data list.\n",
    "    excel_data.append([sequence_id, date_of_generation, gc_content, num_mutations, max_bases_per_mutation, insertions, deletions, substitutions])\n",
    "\n",
    "    # Creates a DataFrame for this collection with a record of all the mutations.\n",
    "    max_mutations = max(len(insertions), len(deletions), len(substitutions))\n",
    "    collection_data = {\n",
    "        original_file_name: [None] * max_mutations,\n",
    "        f\"{sequence_id}_mut_i.fasta\": insertions + [None] * (max_mutations - len(insertions)),\n",
    "        f\"{sequence_id}_mut_d.fasta\": deletions + [None] * (max_mutations - len(deletions)),\n",
    "        f\"{sequence_id}_mut_s.fasta\": substitutions + [None] * (max_mutations - len(substitutions)),\n",
    "    }\n",
    "    collection_df = pd.DataFrame(collection_data)\n",
    "    collection_df.to_excel(os.path.join(subdirectory, f\"{sequence_id}_mutations.xlsx\"), index=False)\n",
    "\n",
    "# Check an example output.\n",
    "collection_df.head()"
   ]
  },
  {
   "cell_type": "code",
   "execution_count": 68,
   "metadata": {},
   "outputs": [
    {
     "data": {
      "text/html": [
       "<div>\n",
       "<style scoped>\n",
       "    .dataframe tbody tr th:only-of-type {\n",
       "        vertical-align: middle;\n",
       "    }\n",
       "\n",
       "    .dataframe tbody tr th {\n",
       "        vertical-align: top;\n",
       "    }\n",
       "\n",
       "    .dataframe thead th {\n",
       "        text-align: right;\n",
       "    }\n",
       "</style>\n",
       "<table border=\"1\" class=\"dataframe\">\n",
       "  <thead>\n",
       "    <tr style=\"text-align: right;\">\n",
       "      <th></th>\n",
       "      <th>Sequence ID</th>\n",
       "      <th>Date of Generation</th>\n",
       "      <th>GC Content</th>\n",
       "      <th>Number of Mutations</th>\n",
       "      <th>Max Bases per Mutation</th>\n",
       "      <th>Insertions</th>\n",
       "      <th>Deletions</th>\n",
       "      <th>Substitutions</th>\n",
       "    </tr>\n",
       "  </thead>\n",
       "  <tbody>\n",
       "    <tr>\n",
       "      <th>0</th>\n",
       "      <td>seq_length_1000</td>\n",
       "      <td>2024-04-03</td>\n",
       "      <td>0.5</td>\n",
       "      <td>3</td>\n",
       "      <td>5</td>\n",
       "      <td>[313_314insGCGG, 533_534insC, 85_86insTA]</td>\n",
       "      <td>[107_111del, 686_686del, 677_681del]</td>\n",
       "      <td>[853A&gt;G, 720G&gt;A, 313T&gt;G]</td>\n",
       "    </tr>\n",
       "    <tr>\n",
       "      <th>1</th>\n",
       "      <td>seq_length_2000</td>\n",
       "      <td>2024-04-03</td>\n",
       "      <td>0.5</td>\n",
       "      <td>3</td>\n",
       "      <td>5</td>\n",
       "      <td>[1415_1416insC, 650_651insATCC, 666_667insGCGG]</td>\n",
       "      <td>[189_189del, 1346_1349del, 697_701del]</td>\n",
       "      <td>[1115A&gt;T, 1807G&gt;T, 1459G&gt;T]</td>\n",
       "    </tr>\n",
       "    <tr>\n",
       "      <th>2</th>\n",
       "      <td>seq_length_3000</td>\n",
       "      <td>2024-04-03</td>\n",
       "      <td>0.5</td>\n",
       "      <td>3</td>\n",
       "      <td>5</td>\n",
       "      <td>[1485_1486insACGCC, 1896_1897insAT, 1588_1589i...</td>\n",
       "      <td>[540_540del, 2136_2140del, 1055_1059del]</td>\n",
       "      <td>[2037G&gt;A, 1491T&gt;G, 2506C&gt;A]</td>\n",
       "    </tr>\n",
       "    <tr>\n",
       "      <th>3</th>\n",
       "      <td>seq_length_4000</td>\n",
       "      <td>2024-04-03</td>\n",
       "      <td>0.5</td>\n",
       "      <td>3</td>\n",
       "      <td>5</td>\n",
       "      <td>[1685_1686insGAAGT, 1467_1468insTA, 2980_2981i...</td>\n",
       "      <td>[2274_2275del, 1327_1327del, 1377_1377del]</td>\n",
       "      <td>[2997T&gt;G, 3682C&gt;G, 2869C&gt;T]</td>\n",
       "    </tr>\n",
       "    <tr>\n",
       "      <th>4</th>\n",
       "      <td>seq_length_5000</td>\n",
       "      <td>2024-04-03</td>\n",
       "      <td>0.5</td>\n",
       "      <td>3</td>\n",
       "      <td>5</td>\n",
       "      <td>[1978_1979insTGCCC, 2251_2252insG, 3537_3538insG]</td>\n",
       "      <td>[288_289del, 2028_2029del, 2136_2139del]</td>\n",
       "      <td>[440G&gt;T, 2642C&gt;A, 376G&gt;T]</td>\n",
       "    </tr>\n",
       "  </tbody>\n",
       "</table>\n",
       "</div>"
      ],
      "text/plain": [
       "       Sequence ID Date of Generation  GC Content  Number of Mutations  \\\n",
       "0  seq_length_1000         2024-04-03         0.5                    3   \n",
       "1  seq_length_2000         2024-04-03         0.5                    3   \n",
       "2  seq_length_3000         2024-04-03         0.5                    3   \n",
       "3  seq_length_4000         2024-04-03         0.5                    3   \n",
       "4  seq_length_5000         2024-04-03         0.5                    3   \n",
       "\n",
       "   Max Bases per Mutation                                         Insertions  \\\n",
       "0                       5          [313_314insGCGG, 533_534insC, 85_86insTA]   \n",
       "1                       5    [1415_1416insC, 650_651insATCC, 666_667insGCGG]   \n",
       "2                       5  [1485_1486insACGCC, 1896_1897insAT, 1588_1589i...   \n",
       "3                       5  [1685_1686insGAAGT, 1467_1468insTA, 2980_2981i...   \n",
       "4                       5  [1978_1979insTGCCC, 2251_2252insG, 3537_3538insG]   \n",
       "\n",
       "                                    Deletions                Substitutions  \n",
       "0        [107_111del, 686_686del, 677_681del]     [853A>G, 720G>A, 313T>G]  \n",
       "1      [189_189del, 1346_1349del, 697_701del]  [1115A>T, 1807G>T, 1459G>T]  \n",
       "2    [540_540del, 2136_2140del, 1055_1059del]  [2037G>A, 1491T>G, 2506C>A]  \n",
       "3  [2274_2275del, 1327_1327del, 1377_1377del]  [2997T>G, 3682C>G, 2869C>T]  \n",
       "4    [288_289del, 2028_2029del, 2136_2139del]    [440G>T, 2642C>A, 376G>T]  "
      ]
     },
     "execution_count": 68,
     "metadata": {},
     "output_type": "execute_result"
    }
   ],
   "source": [
    "# Creates a DataFrame from the master Excel data list for all the different collections.\n",
    "df = pd.DataFrame(excel_data, columns=[\"Sequence ID\", \"Date of Generation\", \"GC Content\", \"Number of Mutations\", \"Max Bases per Mutation\", \"Insertions\", \"Deletions\", \"Substitutions\"])\n",
    "df.head()"
   ]
  },
  {
   "cell_type": "code",
   "execution_count": 69,
   "metadata": {},
   "outputs": [],
   "source": [
    "# Saves the DataFrame to an Excel file in the main directory.\n",
    "excel_file_path = os.path.join(parent_directory, \"sequences_info.xlsx\")\n",
    "df.to_excel(excel_file_path, index=False)"
   ]
  }
 ],
 "metadata": {
  "kernelspec": {
   "display_name": ".venv",
   "language": "python",
   "name": "python3"
  },
  "language_info": {
   "codemirror_mode": {
    "name": "ipython",
    "version": 3
   },
   "file_extension": ".py",
   "mimetype": "text/x-python",
   "name": "python",
   "nbconvert_exporter": "python",
   "pygments_lexer": "ipython3",
   "version": "3.12.0"
  }
 },
 "nbformat": 4,
 "nbformat_minor": 2
}
