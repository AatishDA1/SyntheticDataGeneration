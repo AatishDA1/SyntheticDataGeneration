{
 "cells": [
  {
   "cell_type": "markdown",
   "metadata": {},
   "source": [
    "# V2 DNA Dataset Creation"
   ]
  },
  {
   "cell_type": "markdown",
   "metadata": {},
   "source": [
    "## Overview"
   ]
  },
  {
   "cell_type": "markdown",
   "metadata": {},
   "source": [
    "The following code is used to create a dataset consisting of various different DNA sequences and mutated versions of them.\n",
    "The mutations used are insertions, deletions and substitutions. They are not combined for the purpose of this dataset. \n",
    "\n",
    "It makes use of functions written in the file DNA_Sequence_Generator.py.\n",
    "\n",
    "The dataset is structured as follows:\n",
    "- Dataset Directory\n",
    "    - Excel Spreadsheet with overview of all Collections, and the generation parameters for them. \n",
    "    - Collection 1\n",
    "        - Original Sequence FASTA\n",
    "        - Sequence with Insertions FASTA\n",
    "        - Sequence with Deletions FASTA\n",
    "        - Sequence with Substitutions FASTA\n",
    "        - Excel Spreadsheet listing the positions and exact nature of each mutation for all the files in the collection.\n",
    "    - Collection 2\n",
    "        - Original Sequence FASTA\n",
    "        - Sequence with Insertions FASTA\n",
    "        - Sequence with Deletions FASTA\n",
    "        - Sequence with Substitutions FASTA\n",
    "        - Excel Spreadsheet listing the positions and exact nature of each mutation for all the files in the collection.\n",
    "    - Collection n...\n",
    "\n",
    "The original sequence in each collection differs in terms of its length."
   ]
  },
  {
   "cell_type": "markdown",
   "metadata": {},
   "source": [
    "## Changelog\n",
    "\n",
    "asdasd"
   ]
  },
  {
   "cell_type": "markdown",
   "metadata": {},
   "source": [
    "## Imports"
   ]
  },
  {
   "cell_type": "markdown",
   "metadata": {},
   "source": [
    "General Imports"
   ]
  },
  {
   "cell_type": "code",
   "execution_count": 10,
   "metadata": {},
   "outputs": [],
   "source": [
    "import os\n",
    "import pandas as pd\n",
    "from datetime import datetime"
   ]
  },
  {
   "cell_type": "markdown",
   "metadata": {},
   "source": [
    "Seuqnece Generator Imports"
   ]
  },
  {
   "cell_type": "code",
   "execution_count": 11,
   "metadata": {},
   "outputs": [],
   "source": [
    "from DNA_Sequence_Generator_V2 import DNA_Sequence_Generator_V2 as DNA\n",
    "from DNA_Sequence_Generator_V2 import DNA_Sequence_Mutations_V2 as Mutate "
   ]
  },
  {
   "cell_type": "markdown",
   "metadata": {},
   "source": [
    "## Dataset Generation"
   ]
  },
  {
   "cell_type": "code",
   "execution_count": 12,
   "metadata": {},
   "outputs": [],
   "source": [
    "# Define the sequence lengths and the parent directory for the dataset.\n",
    "sequence_lengths = list(range(1000, 11000, 1000))\n",
    "parent_directory = \"DNA_Sequence_Dataset_V2\""
   ]
  },
  {
   "cell_type": "code",
   "execution_count": 13,
   "metadata": {},
   "outputs": [],
   "source": [
    "# Creates the parent directory if it doesn't exist.\n",
    "os.makedirs(parent_directory, exist_ok=True)\n"
   ]
  },
  {
   "cell_type": "code",
   "execution_count": 14,
   "metadata": {},
   "outputs": [],
   "source": [
    "# Specify parameters for the DNA sequence generation and subsequent mutation.\n",
    "gc_content = 0.5\n",
    "num_mutations = 3\n",
    "max_bases_per_mutation = 5"
   ]
  },
  {
   "cell_type": "code",
   "execution_count": 15,
   "metadata": {},
   "outputs": [],
   "source": [
    "# Initializes a list to store all the data for the sequences. \n",
    "excel_data = []"
   ]
  },
  {
   "cell_type": "code",
   "execution_count": 16,
   "metadata": {},
   "outputs": [
    {
     "data": {
      "text/html": [
       "<div>\n",
       "<style scoped>\n",
       "    .dataframe tbody tr th:only-of-type {\n",
       "        vertical-align: middle;\n",
       "    }\n",
       "\n",
       "    .dataframe tbody tr th {\n",
       "        vertical-align: top;\n",
       "    }\n",
       "\n",
       "    .dataframe thead th {\n",
       "        text-align: right;\n",
       "    }\n",
       "</style>\n",
       "<table border=\"1\" class=\"dataframe\">\n",
       "  <thead>\n",
       "    <tr style=\"text-align: right;\">\n",
       "      <th></th>\n",
       "      <th>seq_length_10000_original.fasta</th>\n",
       "      <th>seq_length_10000_mut_i.fasta</th>\n",
       "      <th>seq_length_10000_mut_d.fasta</th>\n",
       "      <th>seq_length_10000_mut_s.fasta</th>\n",
       "    </tr>\n",
       "  </thead>\n",
       "  <tbody>\n",
       "    <tr>\n",
       "      <th>0</th>\n",
       "      <td>None</td>\n",
       "      <td>3347_3348insA</td>\n",
       "      <td>9346_9349del</td>\n",
       "      <td>1383C&gt;G</td>\n",
       "    </tr>\n",
       "    <tr>\n",
       "      <th>1</th>\n",
       "      <td>None</td>\n",
       "      <td>2605_2606insAT</td>\n",
       "      <td>2918_2918del</td>\n",
       "      <td>7677T&gt;C</td>\n",
       "    </tr>\n",
       "    <tr>\n",
       "      <th>2</th>\n",
       "      <td>None</td>\n",
       "      <td>1255_1256insC</td>\n",
       "      <td>2687_2690del</td>\n",
       "      <td>1768G&gt;C</td>\n",
       "    </tr>\n",
       "  </tbody>\n",
       "</table>\n",
       "</div>"
      ],
      "text/plain": [
       "  seq_length_10000_original.fasta seq_length_10000_mut_i.fasta  \\\n",
       "0                            None                3347_3348insA   \n",
       "1                            None               2605_2606insAT   \n",
       "2                            None                1255_1256insC   \n",
       "\n",
       "  seq_length_10000_mut_d.fasta seq_length_10000_mut_s.fasta  \n",
       "0                 9346_9349del                      1383C>G  \n",
       "1                 2918_2918del                      7677T>C  \n",
       "2                 2687_2690del                      1768G>C  "
      ]
     },
     "execution_count": 16,
     "metadata": {},
     "output_type": "execute_result"
    }
   ],
   "source": [
    "# Loop through the sequence lengths, creating a collection for each.\n",
    "for length in sequence_lengths:\n",
    "    # Creates a subdirectory for each sequence length.\n",
    "    subdirectory = os.path.join(parent_directory, f\"length_{length}\")\n",
    "    os.makedirs(subdirectory, exist_ok=True)\n",
    "\n",
    "    # Generates a sequence ID and retrieves the current date.\n",
    "    sequence_id = f\"seq_length_{length}\"\n",
    "    date_of_generation = datetime.today().strftime('%Y-%m-%d')\n",
    "\n",
    "    # Generates the template (original) sequence.\n",
    "    original_sequence = DNA.generate_sequence(length, gc_content)\n",
    "\n",
    "    # Writes the original sequence to a FASTA file.\n",
    "    original_file_name = f\"{sequence_id}_original.fasta\"\n",
    "    DNA.sequence_to_fasta(original_sequence, sequence_id, \"original\", date_of_generation, file_name=os.path.join(subdirectory, original_file_name))\n",
    "\n",
    "    # Applies mutations and writes the mutated sequences to FASTA files.\n",
    "    insertions = Mutate.insert(os.path.join(subdirectory, original_file_name), num_mutations, max_bases_per_mutation)\n",
    "    deletions = Mutate.delete(os.path.join(subdirectory, original_file_name), num_mutations, max_bases_per_mutation)\n",
    "    substitutions = Mutate.substitute(os.path.join(subdirectory, original_file_name), num_mutations)\n",
    "\n",
    "    # Adds the data for this sequence to the master Excel data list.\n",
    "    excel_data.append([sequence_id, date_of_generation, gc_content, num_mutations, max_bases_per_mutation, insertions, deletions, substitutions])\n",
    "\n",
    "    # Creates a DataFrame for this collection with a record of all the mutations.\n",
    "    max_mutations = max(len(insertions), len(deletions), len(substitutions))\n",
    "    collection_data = {\n",
    "        original_file_name: [None] * max_mutations,\n",
    "        f\"{sequence_id}_mut_i.fasta\": insertions + [None] * (max_mutations - len(insertions)),\n",
    "        f\"{sequence_id}_mut_d.fasta\": deletions + [None] * (max_mutations - len(deletions)),\n",
    "        f\"{sequence_id}_mut_s.fasta\": substitutions + [None] * (max_mutations - len(substitutions)),\n",
    "    }\n",
    "    collection_df = pd.DataFrame(collection_data)\n",
    "    collection_df.to_excel(os.path.join(subdirectory, f\"{sequence_id}_mutations.xlsx\"), index=False)\n",
    "\n",
    "# Check an example output.\n",
    "collection_df.head()"
   ]
  },
  {
   "cell_type": "code",
   "execution_count": 17,
   "metadata": {},
   "outputs": [
    {
     "data": {
      "text/html": [
       "<div>\n",
       "<style scoped>\n",
       "    .dataframe tbody tr th:only-of-type {\n",
       "        vertical-align: middle;\n",
       "    }\n",
       "\n",
       "    .dataframe tbody tr th {\n",
       "        vertical-align: top;\n",
       "    }\n",
       "\n",
       "    .dataframe thead th {\n",
       "        text-align: right;\n",
       "    }\n",
       "</style>\n",
       "<table border=\"1\" class=\"dataframe\">\n",
       "  <thead>\n",
       "    <tr style=\"text-align: right;\">\n",
       "      <th></th>\n",
       "      <th>Sequence ID</th>\n",
       "      <th>Date of Generation</th>\n",
       "      <th>GC Content</th>\n",
       "      <th>Number of Mutations</th>\n",
       "      <th>Max Bases per Mutation</th>\n",
       "      <th>Insertions</th>\n",
       "      <th>Deletions</th>\n",
       "      <th>Substitutions</th>\n",
       "    </tr>\n",
       "  </thead>\n",
       "  <tbody>\n",
       "    <tr>\n",
       "      <th>0</th>\n",
       "      <td>seq_length_1000</td>\n",
       "      <td>2024-05-06</td>\n",
       "      <td>0.5</td>\n",
       "      <td>3</td>\n",
       "      <td>5</td>\n",
       "      <td>[547_548insAACT, 181_182insACCTC, 566_567insGCTA]</td>\n",
       "      <td>[776_776del, 270_272del, 108_110del]</td>\n",
       "      <td>[259C&gt;G, 722T&gt;C, 261C&gt;T]</td>\n",
       "    </tr>\n",
       "    <tr>\n",
       "      <th>1</th>\n",
       "      <td>seq_length_2000</td>\n",
       "      <td>2024-05-06</td>\n",
       "      <td>0.5</td>\n",
       "      <td>3</td>\n",
       "      <td>5</td>\n",
       "      <td>[85_86insG, 507_508insC, 1635_1636insAA]</td>\n",
       "      <td>[1288_1288del, 1349_1351del, 419_423del]</td>\n",
       "      <td>[56G&gt;C, 1564G&gt;C, 231T&gt;C]</td>\n",
       "    </tr>\n",
       "    <tr>\n",
       "      <th>2</th>\n",
       "      <td>seq_length_3000</td>\n",
       "      <td>2024-05-06</td>\n",
       "      <td>0.5</td>\n",
       "      <td>3</td>\n",
       "      <td>5</td>\n",
       "      <td>[2266_2267insCTA, 1547_1548insTCAA, 725_726insC]</td>\n",
       "      <td>[1782_1786del, 1546_1550del, 2896_2899del]</td>\n",
       "      <td>[1531A&gt;T, 948A&gt;T, 2657A&gt;C]</td>\n",
       "    </tr>\n",
       "    <tr>\n",
       "      <th>3</th>\n",
       "      <td>seq_length_4000</td>\n",
       "      <td>2024-05-06</td>\n",
       "      <td>0.5</td>\n",
       "      <td>3</td>\n",
       "      <td>5</td>\n",
       "      <td>[2159_2160insT, 2995_2996insT, 2135_2136insTGC]</td>\n",
       "      <td>[163_167del, 1966_1968del, 2785_2787del]</td>\n",
       "      <td>[3356G&gt;T, 2739A&gt;C, 1511C&gt;A]</td>\n",
       "    </tr>\n",
       "    <tr>\n",
       "      <th>4</th>\n",
       "      <td>seq_length_5000</td>\n",
       "      <td>2024-05-06</td>\n",
       "      <td>0.5</td>\n",
       "      <td>3</td>\n",
       "      <td>5</td>\n",
       "      <td>[2566_2567insA, 481_482insGCGG, 3715_3716insTG]</td>\n",
       "      <td>[752_752del, 4080_4081del, 822_826del]</td>\n",
       "      <td>[1502G&gt;A, 231G&gt;C, 3738A&gt;G]</td>\n",
       "    </tr>\n",
       "  </tbody>\n",
       "</table>\n",
       "</div>"
      ],
      "text/plain": [
       "       Sequence ID Date of Generation  GC Content  Number of Mutations  \\\n",
       "0  seq_length_1000         2024-05-06         0.5                    3   \n",
       "1  seq_length_2000         2024-05-06         0.5                    3   \n",
       "2  seq_length_3000         2024-05-06         0.5                    3   \n",
       "3  seq_length_4000         2024-05-06         0.5                    3   \n",
       "4  seq_length_5000         2024-05-06         0.5                    3   \n",
       "\n",
       "   Max Bases per Mutation                                         Insertions  \\\n",
       "0                       5  [547_548insAACT, 181_182insACCTC, 566_567insGCTA]   \n",
       "1                       5           [85_86insG, 507_508insC, 1635_1636insAA]   \n",
       "2                       5   [2266_2267insCTA, 1547_1548insTCAA, 725_726insC]   \n",
       "3                       5    [2159_2160insT, 2995_2996insT, 2135_2136insTGC]   \n",
       "4                       5    [2566_2567insA, 481_482insGCGG, 3715_3716insTG]   \n",
       "\n",
       "                                    Deletions                Substitutions  \n",
       "0        [776_776del, 270_272del, 108_110del]     [259C>G, 722T>C, 261C>T]  \n",
       "1    [1288_1288del, 1349_1351del, 419_423del]     [56G>C, 1564G>C, 231T>C]  \n",
       "2  [1782_1786del, 1546_1550del, 2896_2899del]   [1531A>T, 948A>T, 2657A>C]  \n",
       "3    [163_167del, 1966_1968del, 2785_2787del]  [3356G>T, 2739A>C, 1511C>A]  \n",
       "4      [752_752del, 4080_4081del, 822_826del]   [1502G>A, 231G>C, 3738A>G]  "
      ]
     },
     "execution_count": 17,
     "metadata": {},
     "output_type": "execute_result"
    }
   ],
   "source": [
    "# Creates a DataFrame from the master Excel data list for all the different collections.\n",
    "df = pd.DataFrame(excel_data, columns=[\"Sequence ID\", \"Date of Generation\", \"GC Content\", \"Number of Mutations\", \"Max Bases per Mutation\", \"Insertions\", \"Deletions\", \"Substitutions\"])\n",
    "df.head()"
   ]
  },
  {
   "cell_type": "code",
   "execution_count": 18,
   "metadata": {},
   "outputs": [],
   "source": [
    "# Saves the DataFrame to an Excel file in the main directory.\n",
    "excel_file_path = os.path.join(parent_directory, \"sequences_info.xlsx\")\n",
    "df.to_excel(excel_file_path, index=False)"
   ]
  }
 ],
 "metadata": {
  "kernelspec": {
   "display_name": ".venv",
   "language": "python",
   "name": "python3"
  },
  "language_info": {
   "codemirror_mode": {
    "name": "ipython",
    "version": 3
   },
   "file_extension": ".py",
   "mimetype": "text/x-python",
   "name": "python",
   "nbconvert_exporter": "python",
   "pygments_lexer": "ipython3",
   "version": "3.12.0"
  }
 },
 "nbformat": 4,
 "nbformat_minor": 2
}
