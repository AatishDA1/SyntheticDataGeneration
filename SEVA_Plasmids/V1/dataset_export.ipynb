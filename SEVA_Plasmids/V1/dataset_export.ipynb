{
 "cells": [
  {
   "cell_type": "markdown",
   "metadata": {},
   "source": [
    "# V1 Corrupted SEVA Plasmid Dataset Creation"
   ]
  },
  {
   "cell_type": "markdown",
   "metadata": {},
   "source": [
    "## Overview"
   ]
  },
  {
   "cell_type": "markdown",
   "metadata": {},
   "source": [
    "The following code is used to create a dataset consisting of various different canonical SEVA Plasmids that have had their T0, T1 or oriT regions corrupted.\n",
    "\n",
    "The mutations used to corrupt these regions are insertions, deletions and substitutions. Depending on the corruptions parameters used, each region can have any number of mutations done to it. \n",
    "\n",
    "It makes use of functions written in the file SEVA_Plasmid_Webscraper.py.\n",
    "\n",
    "Each original plasmid is given its own folder, containing the original GenBank file and the corrupted versions of it. There is one corrupted version for each combination of corrupted regions. \n",
    "\n",
    "The dataset is structured as follows:\n",
    "- Dataset Directory\n",
    "    - Excel Spreadsheet with overview of all Collections,\n",
    "    - Collection 1\n",
    "        - Original Sequence GenBank\n",
    "        - Sequence with T0 Corrupted GenBank\n",
    "        - Sequence with T1 Corrupted GenBank\n",
    "        - Sequence with oriT Corrupted GenBank\n",
    "        - Sequence with T0 + T1 Corrupted GenBank\n",
    "        - Sequence with T0 + oriT Corrupted GenBank\n",
    "        - Sequence with T1 + oriT Corrupted GenBank\n",
    "        - Sequence with T0 + T1 + oriT Corrupted GenBank\n",
    "        - Excel Spreadsheet listing the positions and exact nature of each mutation for all the files in the collection as well as the generation parameters and time.\n",
    "    - Collection 2\n",
    "        - Original Sequence GenBank\n",
    "        - Sequence with T0 Corrupted GenBank\n",
    "        - Sequence with T1 Corrupted GenBank\n",
    "        - Sequence with oriT Corrupted GenBank\n",
    "        - Sequence with T0 + T1 Corrupted GenBank\n",
    "        - Sequence with T0 + oriT Corrupted GenBank\n",
    "        - Sequence with T1 + oriT Corrupted GenBank\n",
    "        - Sequence with T0 + T1 + oriT Corrupted GenBank\n",
    "        - Excel Spreadsheet listing the positions and exact nature of each mutation for all the files in the collection as well as the generation parameters and time.\n",
    "    - Collection n...\n",
    "\n",
    "Each collection is named from the GenBank number of the original canonical SEVA plasmid it contains."
   ]
  },
  {
   "cell_type": "markdown",
   "metadata": {},
   "source": [
    "## Imports"
   ]
  },
  {
   "cell_type": "markdown",
   "metadata": {},
   "source": [
    "General Imports"
   ]
  },
  {
   "cell_type": "code",
   "execution_count": 1,
   "metadata": {},
   "outputs": [],
   "source": [
    "import os\n",
    "import pandas as pd\n",
    "from datetime import datetime"
   ]
  },
  {
   "cell_type": "markdown",
   "metadata": {},
   "source": [
    "Seuqnece Generator Imports"
   ]
  },
  {
   "cell_type": "code",
   "execution_count": 2,
   "metadata": {},
   "outputs": [],
   "source": [
    "from SEVA_Plasmid_Webscaper import SEVA_Plasmid_Webscraper as SEVA\n",
    "from SEVA_Plasmid_Webscaper import Sequence_Mutations as Mutate "
   ]
  },
  {
   "cell_type": "markdown",
   "metadata": {},
   "source": [
    "## Dataset Generation"
   ]
  },
  {
   "cell_type": "code",
   "execution_count": 3,
   "metadata": {},
   "outputs": [],
   "source": [
    "# Creates the parent directory.\n",
    "parent_directory = \"Corrupted_SEVA_Plasmid_Dataset_V1\"\n",
    "os.makedirs(parent_directory, exist_ok=True)"
   ]
  },
  {
   "cell_type": "code",
   "execution_count": 4,
   "metadata": {},
   "outputs": [],
   "source": [
    "# URL of the SEVA canonical plasmids list page.\n",
    "url = \"https://seva-plasmids.com/v2/table-all.php\""
   ]
  },
  {
   "cell_type": "code",
   "execution_count": 5,
   "metadata": {},
   "outputs": [
    {
     "data": {
      "text/html": [
       "<div>\n",
       "<style scoped>\n",
       "    .dataframe tbody tr th:only-of-type {\n",
       "        vertical-align: middle;\n",
       "    }\n",
       "\n",
       "    .dataframe tbody tr th {\n",
       "        vertical-align: top;\n",
       "    }\n",
       "\n",
       "    .dataframe thead th {\n",
       "        text-align: right;\n",
       "    }\n",
       "</style>\n",
       "<table border=\"1\" class=\"dataframe\">\n",
       "  <thead>\n",
       "    <tr style=\"text-align: right;\">\n",
       "      <th></th>\n",
       "      <th>name</th>\n",
       "      <th>resistance</th>\n",
       "      <th>ori</th>\n",
       "      <th>cargo</th>\n",
       "      <th>gadget</th>\n",
       "      <th>genbank_number</th>\n",
       "      <th>genbank_link</th>\n",
       "      <th>developer</th>\n",
       "    </tr>\n",
       "  </thead>\n",
       "  <tbody>\n",
       "    <tr>\n",
       "      <th>0</th>\n",
       "      <td>pSEVA111</td>\n",
       "      <td>Ap</td>\n",
       "      <td>R6K</td>\n",
       "      <td>MCS-default</td>\n",
       "      <td></td>\n",
       "      <td>JX560321</td>\n",
       "      <td>http://www.ncbi.nlm.nih.gov/nuccore/JX560321</td>\n",
       "      <td></td>\n",
       "    </tr>\n",
       "    <tr>\n",
       "      <th>1</th>\n",
       "      <td>pSEVA211</td>\n",
       "      <td>Km</td>\n",
       "      <td>R6K</td>\n",
       "      <td>MCS-default</td>\n",
       "      <td></td>\n",
       "      <td>JX560326</td>\n",
       "      <td>http://www.ncbi.nlm.nih.gov/nuccore/JX560326</td>\n",
       "      <td></td>\n",
       "    </tr>\n",
       "    <tr>\n",
       "      <th>2</th>\n",
       "      <td>pSEVA311</td>\n",
       "      <td>Cm</td>\n",
       "      <td>R6K</td>\n",
       "      <td>MCS-default</td>\n",
       "      <td></td>\n",
       "      <td>JX560331</td>\n",
       "      <td>http://www.ncbi.nlm.nih.gov/nuccore/JX560331</td>\n",
       "      <td></td>\n",
       "    </tr>\n",
       "    <tr>\n",
       "      <th>3</th>\n",
       "      <td>pSEVA411</td>\n",
       "      <td>Sm/Sp</td>\n",
       "      <td>R6K</td>\n",
       "      <td>MCS-default</td>\n",
       "      <td></td>\n",
       "      <td>JX560336</td>\n",
       "      <td>http://www.ncbi.nlm.nih.gov/nuccore/JX560336</td>\n",
       "      <td></td>\n",
       "    </tr>\n",
       "    <tr>\n",
       "      <th>4</th>\n",
       "      <td>pSEVA511</td>\n",
       "      <td>Tc</td>\n",
       "      <td>R6K</td>\n",
       "      <td>MCS-default</td>\n",
       "      <td></td>\n",
       "      <td>JX560341</td>\n",
       "      <td>http://www.ncbi.nlm.nih.gov/nuccore/JX560341</td>\n",
       "      <td></td>\n",
       "    </tr>\n",
       "  </tbody>\n",
       "</table>\n",
       "</div>"
      ],
      "text/plain": [
       "       name resistance  ori        cargo gadget genbank_number  \\\n",
       "0  pSEVA111         Ap  R6K  MCS-default              JX560321   \n",
       "1  pSEVA211         Km  R6K  MCS-default              JX560326   \n",
       "2  pSEVA311         Cm  R6K  MCS-default              JX560331   \n",
       "3  pSEVA411      Sm/Sp  R6K  MCS-default              JX560336   \n",
       "4  pSEVA511         Tc  R6K  MCS-default              JX560341   \n",
       "\n",
       "                                   genbank_link developer  \n",
       "0  http://www.ncbi.nlm.nih.gov/nuccore/JX560321            \n",
       "1  http://www.ncbi.nlm.nih.gov/nuccore/JX560326            \n",
       "2  http://www.ncbi.nlm.nih.gov/nuccore/JX560331            \n",
       "3  http://www.ncbi.nlm.nih.gov/nuccore/JX560336            \n",
       "4  http://www.ncbi.nlm.nih.gov/nuccore/JX560341            "
      ]
     },
     "execution_count": 5,
     "metadata": {},
     "output_type": "execute_result"
    }
   ],
   "source": [
    "# Extract the SEVA table.\n",
    "seva_df = SEVA.extract_seva_table(url, num_rows=50, include_gadget=False)\n",
    "seva_df.head()"
   ]
  },
  {
   "cell_type": "code",
   "execution_count": 6,
   "metadata": {},
   "outputs": [],
   "source": [
    "# Save the SEVA table to an Excel file in the parent directory.\n",
    "seva_df.to_excel(os.path.join(parent_directory, \"seva_plasmid_list.xlsx\"), index=False)"
   ]
  },
  {
   "cell_type": "code",
   "execution_count": null,
   "metadata": {},
   "outputs": [],
   "source": [
    "# Iterate over each plasmid in the SEVA table to create collections of mutated plasmids.\n",
    "for index, row in seva_df.iterrows():\n",
    "    genbank_number = row['genbank_number']\n",
    "    folder_name = os.path.join(parent_directory, genbank_number)\n",
    "    os.makedirs(folder_name, exist_ok=True)\n",
    "\n",
    "    # Fetch the original GenBank file\n",
    "    genbank_content = SEVA.get_genbank_file(genbank_number)\n",
    "    \n",
    "    # Save the original GenBank file\n",
    "    original_filename = os.path.join(folder_name, f\"{genbank_number}.gb\")\n",
    "    SEVA.write_to_genbank_file(genbank_content, original_filename)\n",
    "\n",
    "    # Initialize the DataFrame to store mutation details\n",
    "    mutation_details_df = pd.DataFrame(columns=['locus', 'oriT_mutations', 'T0_mutations', 'T1_mutations', 'oriT_enabled', 'T0_enabled', 'T1_enabled', 'num_mutations', 'min_bases', 'max_bases', 'generation_time'])\n",
    "\n",
    "    # Add the original file details to the mutation details DataFrame\n",
    "    mutation_details_df = pd.concat([mutation_details_df, pd.DataFrame([{\n",
    "        'locus': genbank_number,\n",
    "        'oriT_mutations': [],\n",
    "        'T0_mutations': [],\n",
    "        'T1_mutations': [],\n",
    "        'oriT_enabled': False,\n",
    "        'T0_enabled': False,\n",
    "        'T1_enabled': False,\n",
    "        'num_mutations': 0,\n",
    "        'min_bases': 0,\n",
    "        'max_bases': 0,\n",
    "        'generation_time': datetime.now()\n",
    "    }])], ignore_index=True)\n",
    "\n",
    "    # Define the combinations of regions to be mutated\n",
    "    region_combinations = [\n",
    "        (True, False, False),  # Only oriT\n",
    "        (False, True, False),  # Only T0\n",
    "        (False, False, True),  # Only T1\n",
    "        (True, True, False),   # oriT and T0\n",
    "        (True, False, True),   # oriT and T1\n",
    "        (False, True, True),   # T0 and T1\n",
    "        (True, True, True)     # oriT, T0, and T1\n",
    "    ]\n",
    "\n",
    "    # Apply mutations for each combination of regions\n",
    "    for oriT_enabled, T0_enabled, T1_enabled in region_combinations:\n",
    "        mutated_content, extension, mutation_df = Mutate.mutate_seva(\n",
    "            genbank_content, \n",
    "            enable_oriT=oriT_enabled, \n",
    "            enable_T1=T1_enabled, \n",
    "            enable_T0=T0_enabled, \n",
    "            enable_insertion=True, \n",
    "            enable_deletion=True, \n",
    "            enable_substitution=True, \n",
    "            num_mutations=1, \n",
    "            min_bases=1, \n",
    "            max_bases=5\n",
    "        )\n",
    "        \n",
    "        # Save the mutated GenBank file\n",
    "        mutated_filename = os.path.join(folder_name, f\"{genbank_number}{extension}.gb\")\n",
    "        SEVA.write_to_genbank_file(mutated_content, mutated_filename)\n",
    "        \n",
    "        # Add the mutation details to the mutation details DataFrame\n",
    "        for _, mutation_row in mutation_df.iterrows():\n",
    "            mutation_details_df = pd.concat([mutation_details_df, pd.DataFrame([{\n",
    "                'locus': mutation_row['locus'],\n",
    "                'oriT_mutations': mutation_row['oriT_mutations'],\n",
    "                'T0_mutations': mutation_row['T0_mutations'],\n",
    "                'T1_mutations': mutation_row['T1_mutations'],\n",
    "                'oriT_enabled': oriT_enabled,\n",
    "                'T0_enabled': T0_enabled,\n",
    "                'T1_enabled': T1_enabled,\n",
    "                'num_mutations': 1,\n",
    "                'min_bases': 1,\n",
    "                'max_bases': 5,\n",
    "                'generation_time': datetime.now()\n",
    "            }])], ignore_index=True)\n",
    "    \n",
    "    # Save the mutation details DataFrame to an Excel file\n",
    "    mutation_details_filename = os.path.join(folder_name, f\"{genbank_number}_mutations.xlsx\")\n",
    "    mutation_details_df.to_excel(mutation_details_filename, index=False)"
   ]
  }
 ],
 "metadata": {
  "kernelspec": {
   "display_name": ".venv",
   "language": "python",
   "name": "python3"
  },
  "language_info": {
   "codemirror_mode": {
    "name": "ipython",
    "version": 3
   },
   "file_extension": ".py",
   "mimetype": "text/x-python",
   "name": "python",
   "nbconvert_exporter": "python",
   "pygments_lexer": "ipython3",
   "version": "3.12.0"
  }
 },
 "nbformat": 4,
 "nbformat_minor": 2
}
